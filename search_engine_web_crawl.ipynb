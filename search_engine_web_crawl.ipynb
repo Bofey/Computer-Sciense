{
 "cells": [
  {
   "cell_type": "markdown",
   "metadata": {},
   "source": [
    "## "
   ]
  },
  {
   "cell_type": "code",
   "execution_count": null,
   "metadata": {
    "collapsed": true
   },
   "outputs": [],
   "source": [
    "from bs4 import BeautifulSoup\n",
    "import urllib\n",
    "import re\n",
    "import pandas as pd\n",
    "import requests\n",
    "from urllib.request import urlopen\n",
    "from urllib.parse import urlparse\n",
    "import os"
   ]
  },
  {
   "cell_type": "code",
   "execution_count": null,
   "metadata": {
    "collapsed": true
   },
   "outputs": [],
   "source": [
    "def get_page(url):\n",
    "    \"\"\"\n",
    "    based on the url, get the page information\n",
    "    \"\"\"\n",
    "    try:\n",
    "         r = requests.get(url)\n",
    "        if 'Content-Type' in r.headers and r.headers['Content-Type'] == 'text/html':\n",
    "            return r.text\n",
    "        else:\n",
    "            return None\n",
    "    except Exception as inst:\n",
    "        return None"
   ]
  },
  {
   "cell_type": "code",
   "execution_count": null,
   "metadata": {
    "collapsed": true
   },
   "outputs": [],
   "source": [
    "def get_next_target(page):\n",
    "    start_link = page.find('<a href=')\n",
    "    if start_link == -1:\n",
    "        return None,0\n",
    "    start_quote = page.find('\"',start_link)\n",
    "    end_quote = page.find('\"',start_quote+1)\n",
    "    url = page[start_quote+1:end_quote]\n",
    "    return url,end_quote"
   ]
  },
  {
   "cell_type": "code",
   "execution_count": null,
   "metadata": {
    "collapsed": true
   },
   "outputs": [],
   "source": [
    "def union(p,q):\n",
    "    for e in q:\n",
    "        if e not in p:\n",
    "            p.append(e)"
   ]
  },
  {
   "cell_type": "code",
   "execution_count": null,
   "metadata": {
    "collapsed": true
   },
   "outputs": [],
   "source": [
    "def get_all_links(page):\n",
    "    links = []\n",
    "    while True:\n",
    "        url,endpos = get_next_target(page)\n",
    "        if url:\n",
    "            links.append(url)\n",
    "            page = page[endpos:]\n",
    "        else:\n",
    "            break\n",
    "    return links"
   ]
  },
  {
   "cell_type": "code",
   "execution_count": null,
   "metadata": {
    "collapsed": true
   },
   "outputs": [],
   "source": [
    "def crawl_web(seed):\n",
    "    tocrawl = [seed]\n",
    "    crawled = []\n",
    "    while tocrawl:\n",
    "        page = tocrawl.pop()\n",
    "        if page not in crawled:\n",
    "            union(tocrawl,get_all_links(get_page(page)))\n",
    "            crawled.append(page)\n",
    "    return crawled"
   ]
  },
  {
   "cell_type": "code",
   "execution_count": null,
   "metadata": {
    "collapsed": true
   },
   "outputs": [],
   "source": [
    "def crawl_web(seed,max_depth):\n",
    "    tocrawl = [seed]\n",
    "    crawled = []\n",
    "    next_depth = []\n",
    "    depth = 0\n",
    "    while tocrawl and depth < max_depth:\n",
    "        page = tocrawl.pop()\n",
    "        if page not in crawled:\n",
    "            union(next_depth,get_all_links(get_page(page))) \n",
    "            crawled.append(page)\n",
    "        if not tocrawl:\n",
    "            tocrawl,next_depth = next_depth,[]\n",
    "            depth = depth + 1\n",
    "    return crawled"
   ]
  },
  {
   "cell_type": "markdown",
   "metadata": {},
   "source": [
    "### index \\ search"
   ]
  },
  {
   "cell_type": "code",
   "execution_count": null,
   "metadata": {
    "collapsed": true
   },
   "outputs": [],
   "source": [
    "def add_to_index(index,keyword,url):\n",
    "    for entry in index:\n",
    "        if entry[0] == keyword:\n",
    "            entry[1].append(url)\n",
    "            return\n",
    "    index.append([keywoed,[url]])"
   ]
  },
  {
   "cell_type": "code",
   "execution_count": null,
   "metadata": {
    "collapsed": true
   },
   "outputs": [],
   "source": [
    "def look_up(index,keyword):\n",
    "    for entry in index:\n",
    "        if entry[0] == keyword:\n",
    "            return entry[1]\n",
    "    return []"
   ]
  },
  {
   "cell_type": "code",
   "execution_count": null,
   "metadata": {
    "collapsed": true
   },
   "outputs": [],
   "source": [
    "def add_page_to_index(index,url,content):\n",
    "    words = content.split()\n",
    "    for word in words:\n",
    "        add_to_index(index,word,url)"
   ]
  },
  {
   "cell_type": "code",
   "execution_count": null,
   "metadata": {
    "collapsed": true
   },
   "outputs": [],
   "source": [
    "def crawl_web(seed):\n",
    "    tocrawl = [seed]\n",
    "    crawled = []\n",
    "    index = []\n",
    "    while tocrawl:\n",
    "        page = tocrawl.pop()\n",
    "        if page not in crawled:\n",
    "            content = get_page(page)\n",
    "            add_page_to_index(index,page,content)\n",
    "            union(tocrawl,get_all_links(content))\n",
    "            crawled.append(page)\n",
    "    return index"
   ]
  },
  {
   "cell_type": "code",
   "execution_count": null,
   "metadata": {
    "collapsed": true
   },
   "outputs": [],
   "source": []
  }
 ],
 "metadata": {
  "kernelspec": {
   "display_name": "Python 3",
   "language": "python",
   "name": "python3"
  },
  "language_info": {
   "codemirror_mode": {
    "name": "ipython",
    "version": 3
   },
   "file_extension": ".py",
   "mimetype": "text/x-python",
   "name": "python",
   "nbconvert_exporter": "python",
   "pygments_lexer": "ipython3",
   "version": "3.6.3"
  }
 },
 "nbformat": 4,
 "nbformat_minor": 2
}
